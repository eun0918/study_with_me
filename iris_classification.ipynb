{
 "cells": [
  {
   "cell_type": "code",
   "execution_count": 132,
   "metadata": {},
   "outputs": [],
   "source": [
    "import numpy as np\n",
    "import pandas as pd\n",
    "import tensorflow as tf\n",
    "\n",
    "from tensorflow.keras.models import Sequential\n",
    "from tensorflow.keras.layers import Dense\n",
    "from tensorflow.keras.optimizers import Adam\n",
    "\n",
    "from sklearn.datasets import load_iris\n",
    "from sklearn.model_selection import train_test_split"
   ]
  },
  {
   "cell_type": "code",
   "execution_count": 133,
   "metadata": {},
   "outputs": [],
   "source": [
    "iris = load_iris()\n",
    "columns = ['sepal_length','sepal_width','petal_length','petal_width','species']\n",
    "X = iris.data\n",
    "y = iris.target"
   ]
  },
  {
   "cell_type": "code",
   "execution_count": 134,
   "metadata": {},
   "outputs": [
    {
     "name": "stdout",
     "output_type": "stream",
     "text": [
      "(150, 4) (150,)\n"
     ]
    }
   ],
   "source": [
    "print(X.shape, y.shape)"
   ]
  },
  {
   "cell_type": "code",
   "execution_count": 135,
   "metadata": {},
   "outputs": [],
   "source": [
    "train_X, test_X, train_y, test_y = train_test_split(X, y, test_size=0.1, random_state=0)"
   ]
  },
  {
   "cell_type": "code",
   "execution_count": 136,
   "metadata": {},
   "outputs": [
    {
     "data": {
      "text/plain": [
       "((135, 4), (135,), (15, 4), (15,))"
      ]
     },
     "execution_count": 136,
     "metadata": {},
     "output_type": "execute_result"
    }
   ],
   "source": [
    "train_X.shape, train_y.shape, test_X.shape, test_y.shape"
   ]
  },
  {
   "cell_type": "code",
   "execution_count": 137,
   "metadata": {},
   "outputs": [],
   "source": [
    "train_X = pd.DataFrame(train_X, columns=[columns[:4]])\n",
    "train_y = pd.DataFrame(train_y, columns=[columns[4]])\n",
    "test_X = pd.DataFrame(test_X, columns=[columns[:4]])\n",
    "test_y = pd.DataFrame(test_y, columns=[columns[4]])"
   ]
  },
  {
   "cell_type": "code",
   "execution_count": 138,
   "metadata": {},
   "outputs": [
    {
     "data": {
      "text/plain": [
       "(    sepal_length sepal_width petal_length petal_width\n",
       " 0            4.9         3.6          1.4         0.1\n",
       " 1            6.0         2.9          4.5         1.5\n",
       " 2            5.5         2.6          4.4         1.2\n",
       " 3            4.8         3.0          1.4         0.3\n",
       " 4            5.4         3.9          1.3         0.4\n",
       " ..           ...         ...          ...         ...\n",
       " 130          4.9         3.1          1.5         0.1\n",
       " 131          6.3         2.9          5.6         1.8\n",
       " 132          5.8         2.7          4.1         1.0\n",
       " 133          7.7         3.8          6.7         2.2\n",
       " 134          4.6         3.2          1.4         0.2\n",
       " \n",
       " [135 rows x 4 columns],\n",
       "      species\n",
       " 0          0\n",
       " 1          1\n",
       " 2          1\n",
       " 3          0\n",
       " 4          0\n",
       " ..       ...\n",
       " 130        0\n",
       " 131        2\n",
       " 132        1\n",
       " 133        2\n",
       " 134        0\n",
       " \n",
       " [135 rows x 1 columns])"
      ]
     },
     "execution_count": 138,
     "metadata": {},
     "output_type": "execute_result"
    }
   ],
   "source": [
    "train_X, train_y"
   ]
  },
  {
   "cell_type": "code",
   "execution_count": 139,
   "metadata": {},
   "outputs": [],
   "source": [
    "model = Sequential()"
   ]
  },
  {
   "cell_type": "code",
   "execution_count": 140,
   "metadata": {},
   "outputs": [],
   "source": [
    "model.add(Dense(128, input_shape=(train_X.shape[1],), activation='relu'))\n",
    "model.add(Dense(64, activation='relu'))\n",
    "model.add(Dense(3, activation='softmax'))"
   ]
  },
  {
   "cell_type": "code",
   "execution_count": 141,
   "metadata": {},
   "outputs": [],
   "source": [
    "model.compile(optimizer=Adam(learning_rate=0.01), loss='sparse_categorical_crossentropy', metrics=['accuracy'])"
   ]
  },
  {
   "cell_type": "code",
   "execution_count": 142,
   "metadata": {},
   "outputs": [
    {
     "name": "stdout",
     "output_type": "stream",
     "text": [
      "Model: \"sequential_5\"\n",
      "_________________________________________________________________\n",
      "Layer (type)                 Output Shape              Param #   \n",
      "=================================================================\n",
      "dense_15 (Dense)             (None, 128)               640       \n",
      "_________________________________________________________________\n",
      "dense_16 (Dense)             (None, 64)                8256      \n",
      "_________________________________________________________________\n",
      "dense_17 (Dense)             (None, 3)                 195       \n",
      "=================================================================\n",
      "Total params: 9,091\n",
      "Trainable params: 9,091\n",
      "Non-trainable params: 0\n",
      "_________________________________________________________________\n"
     ]
    }
   ],
   "source": [
    "model.summary()"
   ]
  },
  {
   "cell_type": "code",
   "execution_count": 143,
   "metadata": {},
   "outputs": [
    {
     "name": "stdout",
     "output_type": "stream",
     "text": [
      "Epoch 1/100\n",
      "4/4 [==============================] - 0s 36ms/step - loss: 1.1881 - accuracy: 0.4444 - val_loss: 0.6238 - val_accuracy: 0.5926\n",
      "Epoch 2/100\n",
      "4/4 [==============================] - 0s 7ms/step - loss: 0.5467 - accuracy: 0.7315 - val_loss: 0.4774 - val_accuracy: 0.7407\n",
      "Epoch 3/100\n",
      "4/4 [==============================] - 0s 6ms/step - loss: 0.3955 - accuracy: 0.7500 - val_loss: 0.4010 - val_accuracy: 0.8889\n",
      "Epoch 4/100\n",
      "4/4 [==============================] - 0s 6ms/step - loss: 0.3887 - accuracy: 0.8519 - val_loss: 0.3633 - val_accuracy: 0.8519\n",
      "Epoch 5/100\n",
      "4/4 [==============================] - 0s 6ms/step - loss: 0.2881 - accuracy: 0.8519 - val_loss: 0.2911 - val_accuracy: 0.8889\n",
      "Epoch 6/100\n",
      "4/4 [==============================] - 0s 6ms/step - loss: 0.2522 - accuracy: 0.9167 - val_loss: 0.2177 - val_accuracy: 0.9259\n",
      "Epoch 7/100\n",
      "4/4 [==============================] - 0s 6ms/step - loss: 0.2188 - accuracy: 0.9352 - val_loss: 0.1766 - val_accuracy: 0.9259\n",
      "Epoch 8/100\n",
      "4/4 [==============================] - 0s 7ms/step - loss: 0.1919 - accuracy: 0.9167 - val_loss: 0.2596 - val_accuracy: 0.8519\n",
      "Epoch 9/100\n",
      "4/4 [==============================] - 0s 7ms/step - loss: 0.1730 - accuracy: 0.9537 - val_loss: 0.1266 - val_accuracy: 0.9259\n",
      "Epoch 10/100\n",
      "4/4 [==============================] - 0s 6ms/step - loss: 0.1350 - accuracy: 0.9630 - val_loss: 0.1187 - val_accuracy: 0.9259\n",
      "Epoch 11/100\n",
      "4/4 [==============================] - 0s 6ms/step - loss: 0.1110 - accuracy: 0.9815 - val_loss: 0.0776 - val_accuracy: 1.0000\n",
      "Epoch 12/100\n",
      "4/4 [==============================] - 0s 6ms/step - loss: 0.1315 - accuracy: 0.9352 - val_loss: 0.3074 - val_accuracy: 0.8519\n",
      "Epoch 13/100\n",
      "4/4 [==============================] - 0s 7ms/step - loss: 0.1583 - accuracy: 0.9630 - val_loss: 0.0781 - val_accuracy: 1.0000\n",
      "Epoch 14/100\n",
      "4/4 [==============================] - 0s 6ms/step - loss: 0.0998 - accuracy: 0.9722 - val_loss: 0.5650 - val_accuracy: 0.8519\n",
      "Epoch 15/100\n",
      "4/4 [==============================] - 0s 6ms/step - loss: 0.2420 - accuracy: 0.9352 - val_loss: 0.0503 - val_accuracy: 1.0000\n",
      "Epoch 16/100\n",
      "4/4 [==============================] - 0s 6ms/step - loss: 0.0880 - accuracy: 0.9537 - val_loss: 0.2359 - val_accuracy: 0.8889\n",
      "Epoch 17/100\n",
      "4/4 [==============================] - 0s 6ms/step - loss: 0.1040 - accuracy: 0.9722 - val_loss: 0.0633 - val_accuracy: 0.9630\n",
      "Epoch 18/100\n",
      "4/4 [==============================] - 0s 7ms/step - loss: 0.0866 - accuracy: 0.9722 - val_loss: 0.1534 - val_accuracy: 0.9259\n",
      "Epoch 19/100\n",
      "4/4 [==============================] - 0s 8ms/step - loss: 0.0727 - accuracy: 0.9907 - val_loss: 0.0463 - val_accuracy: 1.0000\n",
      "Epoch 20/100\n",
      "4/4 [==============================] - 0s 7ms/step - loss: 0.0935 - accuracy: 0.9537 - val_loss: 0.1304 - val_accuracy: 0.9259\n",
      "Epoch 21/100\n",
      "4/4 [==============================] - 0s 7ms/step - loss: 0.0749 - accuracy: 0.9815 - val_loss: 0.0388 - val_accuracy: 1.0000\n",
      "Epoch 22/100\n",
      "4/4 [==============================] - 0s 7ms/step - loss: 0.1232 - accuracy: 0.9352 - val_loss: 0.4722 - val_accuracy: 0.8519\n",
      "Epoch 23/100\n",
      "4/4 [==============================] - 0s 7ms/step - loss: 0.1758 - accuracy: 0.9352 - val_loss: 0.0427 - val_accuracy: 1.0000\n",
      "Epoch 24/100\n",
      "4/4 [==============================] - 0s 7ms/step - loss: 0.1727 - accuracy: 0.9167 - val_loss: 0.2545 - val_accuracy: 0.8889\n",
      "Epoch 25/100\n",
      "4/4 [==============================] - 0s 7ms/step - loss: 0.0866 - accuracy: 0.9815 - val_loss: 0.0348 - val_accuracy: 1.0000\n",
      "Epoch 26/100\n",
      "4/4 [==============================] - 0s 7ms/step - loss: 0.1604 - accuracy: 0.9259 - val_loss: 0.1859 - val_accuracy: 0.8889\n",
      "Epoch 27/100\n",
      "4/4 [==============================] - 0s 7ms/step - loss: 0.0920 - accuracy: 0.9815 - val_loss: 0.0710 - val_accuracy: 0.9259\n",
      "Epoch 28/100\n",
      "4/4 [==============================] - 0s 8ms/step - loss: 0.1064 - accuracy: 0.9444 - val_loss: 0.0978 - val_accuracy: 0.9259\n",
      "Epoch 29/100\n",
      "4/4 [==============================] - 0s 7ms/step - loss: 0.0771 - accuracy: 0.9815 - val_loss: 0.2111 - val_accuracy: 0.8889\n",
      "Epoch 30/100\n",
      "4/4 [==============================] - 0s 7ms/step - loss: 0.0865 - accuracy: 0.9722 - val_loss: 0.0486 - val_accuracy: 1.0000\n",
      "Epoch 31/100\n",
      "4/4 [==============================] - 0s 6ms/step - loss: 0.1048 - accuracy: 0.9537 - val_loss: 0.2524 - val_accuracy: 0.8889\n",
      "Epoch 32/100\n",
      "4/4 [==============================] - 0s 8ms/step - loss: 0.1125 - accuracy: 0.9722 - val_loss: 0.0684 - val_accuracy: 0.9630\n",
      "Epoch 33/100\n",
      "4/4 [==============================] - 0s 7ms/step - loss: 0.1134 - accuracy: 0.9537 - val_loss: 0.0814 - val_accuracy: 0.9259\n",
      "Epoch 34/100\n",
      "4/4 [==============================] - 0s 8ms/step - loss: 0.1027 - accuracy: 0.9815 - val_loss: 0.2484 - val_accuracy: 0.8889\n",
      "Epoch 35/100\n",
      "4/4 [==============================] - 0s 7ms/step - loss: 0.0989 - accuracy: 0.9444 - val_loss: 0.0544 - val_accuracy: 1.0000\n",
      "Epoch 36/100\n",
      "4/4 [==============================] - 0s 7ms/step - loss: 0.1087 - accuracy: 0.9722 - val_loss: 0.1763 - val_accuracy: 0.8889\n",
      "Epoch 37/100\n",
      "4/4 [==============================] - 0s 7ms/step - loss: 0.0689 - accuracy: 0.9722 - val_loss: 0.0487 - val_accuracy: 1.0000\n",
      "Epoch 38/100\n",
      "4/4 [==============================] - 0s 8ms/step - loss: 0.0796 - accuracy: 0.9630 - val_loss: 0.1750 - val_accuracy: 0.8889\n",
      "Epoch 39/100\n",
      "4/4 [==============================] - 0s 7ms/step - loss: 0.0769 - accuracy: 0.9722 - val_loss: 0.0963 - val_accuracy: 0.9259\n",
      "Epoch 40/100\n",
      "4/4 [==============================] - 0s 7ms/step - loss: 0.0670 - accuracy: 0.9815 - val_loss: 0.0406 - val_accuracy: 1.0000\n",
      "Epoch 41/100\n",
      "4/4 [==============================] - 0s 8ms/step - loss: 0.0976 - accuracy: 0.9444 - val_loss: 0.1626 - val_accuracy: 0.9259\n",
      "Epoch 42/100\n",
      "4/4 [==============================] - 0s 7ms/step - loss: 0.0746 - accuracy: 0.9815 - val_loss: 0.1381 - val_accuracy: 0.9259\n",
      "Epoch 43/100\n",
      "4/4 [==============================] - 0s 9ms/step - loss: 0.0598 - accuracy: 0.9815 - val_loss: 0.0597 - val_accuracy: 0.9630\n",
      "Epoch 44/100\n",
      "4/4 [==============================] - 0s 8ms/step - loss: 0.0613 - accuracy: 0.9815 - val_loss: 0.1447 - val_accuracy: 0.9259\n",
      "Epoch 45/100\n",
      "4/4 [==============================] - 0s 8ms/step - loss: 0.0630 - accuracy: 0.9815 - val_loss: 0.0793 - val_accuracy: 0.9259\n",
      "Epoch 46/100\n",
      "4/4 [==============================] - 0s 8ms/step - loss: 0.0602 - accuracy: 0.9815 - val_loss: 0.0950 - val_accuracy: 0.9259\n",
      "Epoch 47/100\n",
      "4/4 [==============================] - 0s 7ms/step - loss: 0.0578 - accuracy: 0.9907 - val_loss: 0.0924 - val_accuracy: 0.9259\n",
      "Epoch 48/100\n",
      "4/4 [==============================] - 0s 7ms/step - loss: 0.0554 - accuracy: 0.9907 - val_loss: 0.1669 - val_accuracy: 0.8889\n",
      "Epoch 49/100\n",
      "4/4 [==============================] - 0s 7ms/step - loss: 0.0648 - accuracy: 0.9815 - val_loss: 0.0956 - val_accuracy: 0.9259\n",
      "Epoch 50/100\n",
      "4/4 [==============================] - 0s 7ms/step - loss: 0.0574 - accuracy: 0.9907 - val_loss: 0.1154 - val_accuracy: 0.9259\n",
      "Epoch 51/100\n",
      "4/4 [==============================] - 0s 6ms/step - loss: 0.0550 - accuracy: 0.9907 - val_loss: 0.0658 - val_accuracy: 0.9259\n",
      "Epoch 52/100\n",
      "4/4 [==============================] - 0s 6ms/step - loss: 0.0647 - accuracy: 0.9815 - val_loss: 0.0645 - val_accuracy: 0.9630\n",
      "Epoch 53/100\n",
      "4/4 [==============================] - 0s 7ms/step - loss: 0.0664 - accuracy: 0.9815 - val_loss: 0.1062 - val_accuracy: 0.9259\n",
      "Epoch 54/100\n",
      "4/4 [==============================] - 0s 6ms/step - loss: 0.0563 - accuracy: 0.9815 - val_loss: 0.1259 - val_accuracy: 0.9259\n",
      "Epoch 55/100\n",
      "4/4 [==============================] - 0s 8ms/step - loss: 0.0627 - accuracy: 0.9815 - val_loss: 0.0717 - val_accuracy: 0.9259\n",
      "Epoch 56/100\n",
      "4/4 [==============================] - 0s 8ms/step - loss: 0.0634 - accuracy: 0.9815 - val_loss: 0.1168 - val_accuracy: 0.9259\n",
      "Epoch 57/100\n",
      "4/4 [==============================] - 0s 6ms/step - loss: 0.0837 - accuracy: 0.9722 - val_loss: 0.0877 - val_accuracy: 0.9259\n",
      "Epoch 58/100\n",
      "4/4 [==============================] - 0s 7ms/step - loss: 0.0665 - accuracy: 0.9722 - val_loss: 0.1100 - val_accuracy: 0.9259\n",
      "Epoch 59/100\n",
      "4/4 [==============================] - 0s 7ms/step - loss: 0.0607 - accuracy: 0.9815 - val_loss: 0.0376 - val_accuracy: 1.0000\n",
      "Epoch 60/100\n",
      "4/4 [==============================] - 0s 6ms/step - loss: 0.0634 - accuracy: 0.9722 - val_loss: 0.2392 - val_accuracy: 0.8889\n",
      "Epoch 61/100\n",
      "4/4 [==============================] - 0s 6ms/step - loss: 0.1387 - accuracy: 0.9630 - val_loss: 0.0644 - val_accuracy: 0.9630\n",
      "Epoch 62/100\n",
      "4/4 [==============================] - 0s 7ms/step - loss: 0.0737 - accuracy: 0.9722 - val_loss: 0.0264 - val_accuracy: 1.0000\n",
      "Epoch 63/100\n",
      "4/4 [==============================] - 0s 8ms/step - loss: 0.0829 - accuracy: 0.9630 - val_loss: 0.1975 - val_accuracy: 0.8889\n",
      "Epoch 64/100\n",
      "4/4 [==============================] - 0s 6ms/step - loss: 0.0622 - accuracy: 0.9630 - val_loss: 0.0338 - val_accuracy: 1.0000\n",
      "Epoch 65/100\n",
      "4/4 [==============================] - 0s 7ms/step - loss: 0.0545 - accuracy: 0.9907 - val_loss: 0.2261 - val_accuracy: 0.8889\n",
      "Epoch 66/100\n",
      "4/4 [==============================] - 0s 6ms/step - loss: 0.0773 - accuracy: 0.9722 - val_loss: 0.0915 - val_accuracy: 0.9259\n",
      "Epoch 67/100\n",
      "4/4 [==============================] - 0s 7ms/step - loss: 0.0595 - accuracy: 0.9907 - val_loss: 0.1011 - val_accuracy: 0.9259\n",
      "Epoch 68/100\n",
      "4/4 [==============================] - 0s 7ms/step - loss: 0.0506 - accuracy: 0.9907 - val_loss: 0.1992 - val_accuracy: 0.8889\n",
      "Epoch 69/100\n",
      "4/4 [==============================] - 0s 7ms/step - loss: 0.0622 - accuracy: 0.9815 - val_loss: 0.0315 - val_accuracy: 1.0000\n",
      "Epoch 70/100\n",
      "4/4 [==============================] - 0s 7ms/step - loss: 0.1794 - accuracy: 0.9352 - val_loss: 0.3537 - val_accuracy: 0.8889\n",
      "Epoch 71/100\n",
      "4/4 [==============================] - 0s 11ms/step - loss: 0.1933 - accuracy: 0.9167 - val_loss: 0.1357 - val_accuracy: 0.9259\n",
      "Epoch 72/100\n",
      "4/4 [==============================] - 0s 7ms/step - loss: 0.1195 - accuracy: 0.9537 - val_loss: 0.0653 - val_accuracy: 0.9630\n",
      "Epoch 73/100\n",
      "4/4 [==============================] - 0s 7ms/step - loss: 0.0847 - accuracy: 0.9815 - val_loss: 0.1773 - val_accuracy: 0.8889\n",
      "Epoch 74/100\n",
      "4/4 [==============================] - 0s 8ms/step - loss: 0.1173 - accuracy: 0.9630 - val_loss: 0.0862 - val_accuracy: 0.9259\n",
      "Epoch 75/100\n",
      "4/4 [==============================] - 0s 8ms/step - loss: 0.1071 - accuracy: 0.9630 - val_loss: 0.2328 - val_accuracy: 0.8889\n",
      "Epoch 76/100\n",
      "4/4 [==============================] - 0s 7ms/step - loss: 0.0652 - accuracy: 0.9815 - val_loss: 0.0266 - val_accuracy: 1.0000\n",
      "Epoch 77/100\n",
      "4/4 [==============================] - 0s 10ms/step - loss: 0.0818 - accuracy: 0.9630 - val_loss: 0.2297 - val_accuracy: 0.8889\n",
      "Epoch 78/100\n",
      "4/4 [==============================] - 0s 6ms/step - loss: 0.1238 - accuracy: 0.9722 - val_loss: 0.1446 - val_accuracy: 0.9259\n",
      "Epoch 79/100\n",
      "4/4 [==============================] - 0s 7ms/step - loss: 0.0793 - accuracy: 0.9537 - val_loss: 0.0311 - val_accuracy: 1.0000\n",
      "Epoch 80/100\n",
      "4/4 [==============================] - 0s 7ms/step - loss: 0.0589 - accuracy: 0.9907 - val_loss: 0.2605 - val_accuracy: 0.8889\n",
      "Epoch 81/100\n",
      "4/4 [==============================] - 0s 10ms/step - loss: 0.0883 - accuracy: 0.9630 - val_loss: 0.1410 - val_accuracy: 0.9259\n",
      "Epoch 82/100\n",
      "4/4 [==============================] - 0s 6ms/step - loss: 0.0515 - accuracy: 0.9907 - val_loss: 0.0490 - val_accuracy: 0.9630\n",
      "Epoch 83/100\n",
      "4/4 [==============================] - 0s 9ms/step - loss: 0.0640 - accuracy: 0.9815 - val_loss: 0.1540 - val_accuracy: 0.9259\n",
      "Epoch 84/100\n",
      "4/4 [==============================] - 0s 9ms/step - loss: 0.0870 - accuracy: 0.9722 - val_loss: 0.2803 - val_accuracy: 0.8889\n",
      "Epoch 85/100\n",
      "4/4 [==============================] - 0s 7ms/step - loss: 0.0810 - accuracy: 0.9722 - val_loss: 0.0248 - val_accuracy: 1.0000\n",
      "Epoch 86/100\n",
      "4/4 [==============================] - 0s 7ms/step - loss: 0.0712 - accuracy: 0.9630 - val_loss: 0.3075 - val_accuracy: 0.8889\n",
      "Epoch 87/100\n",
      "4/4 [==============================] - 0s 7ms/step - loss: 0.1045 - accuracy: 0.9630 - val_loss: 0.1154 - val_accuracy: 0.9259\n",
      "Epoch 88/100\n",
      "4/4 [==============================] - 0s 7ms/step - loss: 0.0476 - accuracy: 0.9907 - val_loss: 0.0289 - val_accuracy: 1.0000\n",
      "Epoch 89/100\n",
      "4/4 [==============================] - 0s 7ms/step - loss: 0.0991 - accuracy: 0.9537 - val_loss: 0.2599 - val_accuracy: 0.8889\n",
      "Epoch 90/100\n",
      "4/4 [==============================] - 0s 7ms/step - loss: 0.1102 - accuracy: 0.9722 - val_loss: 0.1991 - val_accuracy: 0.8889\n",
      "Epoch 91/100\n",
      "4/4 [==============================] - 0s 7ms/step - loss: 0.1014 - accuracy: 0.9444 - val_loss: 0.0573 - val_accuracy: 0.9630\n",
      "Epoch 92/100\n",
      "4/4 [==============================] - 0s 7ms/step - loss: 0.0876 - accuracy: 0.9630 - val_loss: 0.3435 - val_accuracy: 0.8889\n",
      "Epoch 93/100\n",
      "4/4 [==============================] - 0s 6ms/step - loss: 0.0867 - accuracy: 0.9630 - val_loss: 0.0383 - val_accuracy: 1.0000\n",
      "Epoch 94/100\n",
      "4/4 [==============================] - 0s 7ms/step - loss: 0.1038 - accuracy: 0.9444 - val_loss: 0.1628 - val_accuracy: 0.8889\n",
      "Epoch 95/100\n",
      "4/4 [==============================] - 0s 7ms/step - loss: 0.1347 - accuracy: 0.9444 - val_loss: 0.2737 - val_accuracy: 0.8889\n",
      "Epoch 96/100\n",
      "4/4 [==============================] - 0s 8ms/step - loss: 0.0547 - accuracy: 0.9722 - val_loss: 0.0324 - val_accuracy: 1.0000\n",
      "Epoch 97/100\n",
      "4/4 [==============================] - 0s 8ms/step - loss: 0.1803 - accuracy: 0.9352 - val_loss: 0.2952 - val_accuracy: 0.8889\n",
      "Epoch 98/100\n",
      "4/4 [==============================] - 0s 9ms/step - loss: 0.1928 - accuracy: 0.8889 - val_loss: 0.2967 - val_accuracy: 0.8889\n",
      "Epoch 99/100\n",
      "4/4 [==============================] - 0s 9ms/step - loss: 0.1011 - accuracy: 0.9722 - val_loss: 0.0600 - val_accuracy: 1.0000\n",
      "Epoch 100/100\n",
      "4/4 [==============================] - 0s 10ms/step - loss: 0.1391 - accuracy: 0.9259 - val_loss: 0.1349 - val_accuracy: 0.9259\n"
     ]
    }
   ],
   "source": [
    "epoch = 100\n",
    "valid_split = 0.2\n",
    "history = model.fit(x=train_X,y=train_y,validation_split=valid_split,epochs=epoch)"
   ]
  },
  {
   "cell_type": "code",
   "execution_count": 144,
   "metadata": {},
   "outputs": [
    {
     "name": "stdout",
     "output_type": "stream",
     "text": [
      "1/1 [==============================] - 0s 16ms/step - loss: 0.0272 - accuracy: 1.0000\n"
     ]
    },
    {
     "data": {
      "text/plain": [
       "[0.02723522111773491, 1.0]"
      ]
     },
     "execution_count": 144,
     "metadata": {},
     "output_type": "execute_result"
    }
   ],
   "source": [
    "model.evaluate(test_X, test_y)"
   ]
  },
  {
   "cell_type": "code",
   "execution_count": 145,
   "metadata": {},
   "outputs": [
    {
     "data": {
      "text/plain": [
       "array([[2.3478592e-07, 3.1208733e-02, 9.6879095e-01],\n",
       "       [1.5158512e-03, 9.9799573e-01, 4.8853987e-04],\n",
       "       [9.9994814e-01, 5.1810614e-05, 6.2271623e-21],\n",
       "       [8.7350834e-08, 3.4082253e-02, 9.6591759e-01],\n",
       "       [9.9958903e-01, 4.1095490e-04, 1.2795513e-17],\n",
       "       [2.4209118e-08, 1.6347509e-02, 9.8365247e-01],\n",
       "       [9.9975246e-01, 2.4756760e-04, 4.3715577e-18],\n",
       "       [6.1082735e-04, 9.8917902e-01, 1.0210145e-02],\n",
       "       [3.6814105e-04, 9.7301787e-01, 2.6613958e-02],\n",
       "       [1.9891858e-03, 9.9768138e-01, 3.2940993e-04],\n",
       "       [2.9597584e-06, 9.5014937e-02, 9.0498203e-01],\n",
       "       [1.1228698e-03, 9.9471706e-01, 4.1601085e-03],\n",
       "       [8.8529621e-04, 9.8274970e-01, 1.6364953e-02],\n",
       "       [4.8316128e-04, 9.3788356e-01, 6.1633270e-02],\n",
       "       [6.4484501e-04, 9.0871447e-01, 9.0640657e-02]], dtype=float32)"
      ]
     },
     "execution_count": 145,
     "metadata": {},
     "output_type": "execute_result"
    }
   ],
   "source": [
    "model.predict(test_X)"
   ]
  },
  {
   "cell_type": "code",
   "execution_count": 148,
   "metadata": {},
   "outputs": [
    {
     "data": {
      "text/plain": [
       "array([[2],\n",
       "       [1],\n",
       "       [0],\n",
       "       [2],\n",
       "       [0],\n",
       "       [2],\n",
       "       [0],\n",
       "       [1],\n",
       "       [1],\n",
       "       [1],\n",
       "       [2],\n",
       "       [1],\n",
       "       [1],\n",
       "       [1],\n",
       "       [1]])"
      ]
     },
     "execution_count": 148,
     "metadata": {},
     "output_type": "execute_result"
    }
   ],
   "source": [
    "np.array(test_y)"
   ]
  },
  {
   "cell_type": "code",
   "execution_count": 147,
   "metadata": {},
   "outputs": [],
   "source": [
    "# 예측 결과 [2, 1, 0, 2, 0, 2, 0, 1, 1, 1, 2, 1, 1, 1, 1]\n",
    "# 실제 값   [2, 1, 0, 2, 0, 2, 0, 1, 1, 1, 2, 1, 1, 1, 1]"
   ]
  }
 ],
 "metadata": {
  "interpreter": {
   "hash": "db555ac86590b75c0930274fef04997b3d0551303c8ecdf45c0d1b9a91701bfa"
  },
  "kernelspec": {
   "display_name": "Python 3.9.6 64-bit",
   "name": "python3"
  },
  "language_info": {
   "codemirror_mode": {
    "name": "ipython",
    "version": 3
   },
   "file_extension": ".py",
   "mimetype": "text/x-python",
   "name": "python",
   "nbconvert_exporter": "python",
   "pygments_lexer": "ipython3",
   "version": "3.9.6"
  },
  "orig_nbformat": 4
 },
 "nbformat": 4,
 "nbformat_minor": 2
}
